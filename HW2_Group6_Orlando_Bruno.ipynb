{
 "cells": [
  {
   "cell_type": "code",
   "execution_count": 1,
   "metadata": {},
   "outputs": [],
   "source": [
    "import numpy as np"
   ]
  },
  {
   "cell_type": "markdown",
   "metadata": {},
   "source": [
    "# Data Set"
   ]
  },
  {
   "cell_type": "code",
   "execution_count": 74,
   "metadata": {},
   "outputs": [],
   "source": [
    "#Logical set input\n",
    "inputs = np.array([[0,0],[0,1],[1,0],[1,1]])\n",
    "\n",
    "\n",
    "label_and = np.array([0,0,0,1])\n",
    "label_or = np.array([0,1,1,1])\n",
    "label_nand = np.array([1,1,1,0])\n",
    "label_nor = np.array([1,0,0,0])\n",
    "label_xor = np.array([0,1,1,0])"
   ]
  },
  {
   "cell_type": "markdown",
   "metadata": {},
   "source": [
    "# Activation Function"
   ]
  },
  {
   "cell_type": "code",
   "execution_count": 75,
   "metadata": {},
   "outputs": [],
   "source": [
    "#implements sigmoid activation function\n",
    "def sigmoid(x):\n",
    "    #Calculates activation\n",
    "    s=1/(1+np.exp(-x))\n",
    "    #Derivates sigmoid activation function\n",
    "    ds=s*(1-s)  \n",
    "    return s,ds\n"
   ]
  },
  {
   "cell_type": "code",
   "execution_count": 25,
   "metadata": {},
   "outputs": [
    {
     "name": "stdout",
     "output_type": "stream",
     "text": [
      "[[0.5        0.5       ]\n",
      " [0.5        0.73105858]\n",
      " [0.73105858 0.5       ]\n",
      " [0.73105858 0.73105858]]\n"
     ]
    }
   ],
   "source": [
    "print (sigmoid(inputs)[0])"
   ]
  },
  {
   "cell_type": "code",
   "execution_count": 126,
   "metadata": {},
   "outputs": [],
   "source": [
    "class Perceptron:\n",
    "    \n",
    "    #input_units = How many weights are comming to the perceptron\n",
    "    def __init__(self, input_units):\n",
    "        self.input_units = input_units\n",
    "        # 1. Initialize random weights and a random bias term. Check 'np.random.randn()'.\n",
    "        self.weights = np.random.randn(input_units)\n",
    "        self.bias = np.random.randn()\n",
    "        self.alpha = 1.0\n",
    "    \n",
    "    #Calculates the activation of the perceptron\n",
    "    def forward_step(self, input):\n",
    "        # Perform a perceptron forward step.\n",
    "        weighted_sum =  np.dot(input, self.weights) + self.bias\n",
    "        return sigmoid(weighted_sum)[0]\n",
    "    \n",
    "    def update(self, input_units, delta):\n",
    "        #compute the gradients for weights and bias from the error term δ\n",
    "        gradients = np.zeros(self.weights.shape)\n",
    "        for i in range(gradients):\n",
    "            gradients[i] = delta * input_units[i]\n",
    "        print (\"gradients before: \", gradients)\n",
    "        return self.weights\n",
    "        gradients *= self.alpha\n",
    "        self.weights -= gradients\n",
    "        self.bias -= self.alpha * delta\n",
    "\n",
    "        \n",
    "    def training_step(self, input_units, label):\n",
    "        # Perform a whole training step (including the forward step).\n",
    "        # 1. Forward step.\n",
    "        prediction = self.forward_step(input)\n",
    "        # 2. Calculate the weight updates.\n",
    "        delta_weights = self.alpha * (label - prediction) * input\n",
    "        # 3. Calculate the bias update. We consider 1 as the \"input\" to the bias, so that we can treat it just like the other weights.\n",
    "        delta_bias = self.alpha * (label - prediction) * 1\n",
    "        # 4. Update weights and bias.\n",
    "        self.weights += delta_weights\n",
    "        self.bias += delta_bias"
   ]
  },
  {
   "cell_type": "code",
   "execution_count": 130,
   "metadata": {},
   "outputs": [],
   "source": [
    "class MLP:\n",
    "    def __init__(self):\n",
    "        #Initialize the MLP with 1 hidden layer that has 4 Perceptrons. Initialize 1 output neuron\n",
    "        self.hidden_layer11 = Perceptron(2)\n",
    "        self.hidden_layer12 = Perceptron(2)\n",
    "        self.hidden_layer13 = Perceptron(2)\n",
    "        self.hidden_layer14 = Perceptron(2)\n",
    "        self.hidden_layer1 = []\n",
    "        self.hidden_layer1.append(self.hidden_layer11)\n",
    "        self.hidden_layer1.append(self.hidden_layer12)\n",
    "        self.hidden_layer1.append(self.hidden_layer13)\n",
    "        self.hidden_layer1.append(self.hidden_layer14)\n",
    "        self.output_layer = Perceptron(4)\n",
    "        self.output = 0\n",
    "        \n",
    "    def forward_step(self,input_array):\n",
    "        hidden_layer_output = []\n",
    "        for percep in self.hidden_layer1:\n",
    "            hidden_layer_output.append(percep.forward_step(input_array))\n",
    "        hidden_output_array = np.array(hidden_layer_output)\n",
    "        self.output = self.output_layer.forward_step(hidden_output_array)\n",
    "        \n",
    "    def backprop_step(self, target):\n",
    "        delta = (self.output - target) * -1 * sigmoid(self.output_layer)\n",
    "        hidden_drive = []"
   ]
  },
  {
   "cell_type": "code",
   "execution_count": null,
   "metadata": {},
   "outputs": [],
   "source": []
  }
 ],
 "metadata": {
  "kernelspec": {
   "display_name": "Python 3",
   "language": "python",
   "name": "python3"
  },
  "language_info": {
   "codemirror_mode": {
    "name": "ipython",
    "version": 3
   },
   "file_extension": ".py",
   "mimetype": "text/x-python",
   "name": "python",
   "nbconvert_exporter": "python",
   "pygments_lexer": "ipython3",
   "version": "3.7.9"
  }
 },
 "nbformat": 4,
 "nbformat_minor": 4
}
